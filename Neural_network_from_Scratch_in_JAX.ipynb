{
  "nbformat": 4,
  "nbformat_minor": 0,
  "metadata": {
    "colab": {
      "name": "Neural network from Scratch in JAX.ipynb",
      "provenance": [],
      "collapsed_sections": []
    },
    "kernelspec": {
      "name": "python3",
      "display_name": "Python 3"
    },
    "language_info": {
      "name": "python"
    },
    "accelerator": "GPU"
  },
  "cells": [
    {
      "cell_type": "code",
      "execution_count": 2,
      "metadata": {
        "id": "9Dz9dyGHnhNO"
      },
      "outputs": [],
      "source": [
        "import jax\n",
        "import jax.numpy as jnp\n",
        "from jax import jit, grad, vmap, value_and_grad\n",
        "from jax import random\n",
        "from jax.scipy.special import logsumexp\n",
        "from jax.experimental import optimizers\n",
        "\n",
        "import torch\n",
        "from torchvision import datasets, transforms\n",
        "\n",
        "import time\n",
        "import matplotlib.pyplot as plt"
      ]
    },
    {
      "cell_type": "markdown",
      "source": [
        "We will need a function that initializes the weights for our MLP. We need to split the key iteratively to generate individual weights of our network."
      ],
      "metadata": {
        "id": "nyFwtFN0mebZ"
      }
    },
    {
      "cell_type": "code",
      "source": [
        "# A helper function to randomly initialize weights and biases\n",
        "def initialize_mlp(sizes, key):\n",
        "  \"\"\"Initialize the weights of all layers of a linear layer network\"\"\"\n",
        "  keys = random.split(key, len(sizes))\n",
        "  # Initialize a single layer with Gaussian weights - helper function\n",
        "  def initialize_layer(m, n,key, scale=1e-2):\n",
        "    w_key, b_key = random.split(key)\n",
        "    return scale * random.normal(w_key, (n, m)), scale * random.normal(b_key, (n,))\n",
        "  return [initialize_layer(m, n, k) for m, n, k in zip(sizes[:-1], sizes[1:], keys)]\n",
        "\n",
        "layer_sizes = [784, 512, 512, 10]\n",
        "# Return a list of tuples of layer weights \n",
        "key = random.PRNGKey(1)\n",
        "layer_sizes = [784, 512, 512, 10]\n",
        "step_size = 0.01\n",
        "num_epochs = 10\n",
        "batch_size = 128\n",
        "n_targets = 10\n",
        "params = initialize_mlp(layer_sizes, key)"
      ],
      "metadata": {
        "id": "pM_QjJcgn3cN",
        "colab": {
          "base_uri": "https://localhost:8080/"
        },
        "outputId": "7eb7ac9f-e1a5-4bdd-bbd1-f1b46b29a033"
      },
      "execution_count": 3,
      "outputs": [
        {
          "output_type": "stream",
          "name": "stderr",
          "text": [
            "WARNING:absl:No GPU/TPU found, falling back to CPU. (Set TF_CPP_MIN_LOG_LEVEL=0 and rerun for more info.)\n"
          ]
        }
      ]
    },
    {
      "cell_type": "code",
      "source": [
        "# Utility functions built from scratch\n",
        "def relu_layer(x):\n",
        "  return jnp.maximum(0, x)\n",
        "\n",
        "def forward_pass(params, in_array):\n",
        "  \"\"\"Forward pass for a single image\"\"\"\n",
        "  activations = in_array\n",
        "  for w, b in params[:-1]:\n",
        "    outputs = jnp.dot(w, activations) + b\n",
        "    activations = relu_layer(outputs)\n",
        "\n",
        "  final_w, final_b = params[-1]\n",
        "  logits = jnp.dot(final_w, activations) + final_b\n",
        "  return logits - logsumexp(logits)\n",
        "\n"
      ],
      "metadata": {
        "id": "I17jd0VIpv2I"
      },
      "execution_count": 4,
      "outputs": []
    },
    {
      "cell_type": "code",
      "source": [
        "# Dry run to check if our prediction function works on a single image\n",
        "image = random.normal(key, (784,))\n",
        "preds = forward_pass(params, image)\n",
        "print(preds.shape)"
      ],
      "metadata": {
        "colab": {
          "base_uri": "https://localhost:8080/"
        },
        "id": "oC9YXVSmsCOh",
        "outputId": "6a8813db-e443-43a8-e806-8373d8f8a236"
      },
      "execution_count": 5,
      "outputs": [
        {
          "output_type": "stream",
          "name": "stdout",
          "text": [
            "(10,)\n"
          ]
        }
      ]
    },
    {
      "cell_type": "code",
      "source": [
        "# Batched version of `forward_pass` function\n",
        "batch_forward_pass = vmap(jit(forward_pass), in_axes=(None, 0), out_axes=0)"
      ],
      "metadata": {
        "id": "gWdXJSr5tF8O"
      },
      "execution_count": 6,
      "outputs": []
    },
    {
      "cell_type": "markdown",
      "source": [
        "Next we need gradient descent. For gradient descent, we need to define the loss function which we want to optimize. This is going to be multi-class cross-entropy between one-hot encoded class labels and the softmax output of the network."
      ],
      "metadata": {
        "id": "F1O9GTDVt4cM"
      }
    },
    {
      "cell_type": "markdown",
      "source": [
        "$$∑_{c=1}^{10}y_ilogp_c^\\theta({x_i})$$"
      ],
      "metadata": {
        "id": "3lkhd3XAuH27"
      }
    },
    {
      "cell_type": "code",
      "source": [
        "def one_hot_encoding(x, k, dtype=jnp.float32):\n",
        "    \"\"\"Create a one-hot encoding of x of size k \"\"\"\n",
        "    return jnp.array(x[:, None] == jnp.arange(k), dtype)\n",
        "\n",
        "def loss(params, in_arrays, targets):\n",
        "    \"\"\" Compute the multi-class cross-entropy loss \"\"\"\n",
        "    preds = batch_forward_pass(params, in_arrays)\n",
        "    return -jnp.sum(preds * targets)\n",
        "  \n",
        "def accuracy(params, data_loader):\n",
        "    \"\"\" Compute the accuracy for a provided dataloader \"\"\"\n",
        "    acc_total = 0\n",
        "    for batch_idx, (data, target) in enumerate(data_loader):\n",
        "        images = jnp.array(data).reshape(data.size(0), 28*28)\n",
        "        targets = one_hot_encoding(jnp.array(target), n_targets)\n",
        "    \n",
        "        target_class = jnp.argmax(targets, axis=1)\n",
        "        predicted_class = jnp.argmax(batch_forward_pass(params, images), axis=1)\n",
        "        acc_total += jnp.sum(predicted_class == target_class)\n",
        "    return acc_total/len(data_loader.dataset)"
      ],
      "metadata": {
        "id": "vtEm767Bto8p"
      },
      "execution_count": 7,
      "outputs": []
    },
    {
      "cell_type": "markdown",
      "source": [
        "Now we need to define the update function which will be a single step for our gradient descent algorithm. I used the predefined optimizer Adam for this purpose. The wrapper `@jit` is used to make the computation faster."
      ],
      "metadata": {
        "id": "8c3fCrB7nq_z"
      }
    },
    {
      "cell_type": "code",
      "source": [
        "@jit\n",
        "def update(params, x, y, opt_state):\n",
        "    \"\"\" Compute the gradient for a batch and update the parameters \"\"\"\n",
        "    value, grads = value_and_grad(loss)(params, x, y)\n",
        "    opt_state = opt_update(0, grads, opt_state)\n",
        "    return get_params(opt_state), opt_state, value\n",
        "    # return loss, jax.tree_multimap(lambda p, g: p - lr * g, params, grads)\n",
        "\n",
        "# Defining an optimizer in Jax\n",
        "step_size = 1e-3\n",
        "opt_init, opt_update, get_params = optimizers.adam(step_size)\n",
        "opt_state = opt_init(params)"
      ],
      "metadata": {
        "id": "g5I_EvVVDL57"
      },
      "execution_count": 8,
      "outputs": []
    },
    {
      "cell_type": "markdown",
      "source": [
        "# Data Loading"
      ],
      "metadata": {
        "id": "xTN0SYlD4RdC"
      }
    },
    {
      "cell_type": "markdown",
      "source": [
        "We will use Pytorch's `torchvision` library to download the data and use this with 80:20 train:test split."
      ],
      "metadata": {
        "id": "2KaIQA1PoJoV"
      }
    },
    {
      "cell_type": "code",
      "source": [
        "transform = transforms.Compose([transforms.ToTensor(), \n",
        "                                        transforms.Normalize((0.1313,), (0.3081,))])\n",
        "\n",
        "dataset = datasets.MNIST(root = './data', transform = transform, download=True)\n",
        "train_size = int(0.8 * len(dataset))\n",
        "test_size = len(dataset) - train_size\n",
        "train_set, test_set = torch.utils.data.random_split(dataset, [train_size, test_size])"
      ],
      "metadata": {
        "id": "ohP_FqYHa7jf"
      },
      "execution_count": 9,
      "outputs": []
    },
    {
      "cell_type": "code",
      "source": [
        "batch_size = 128\n",
        "train_loader = torch.utils.data.DataLoader(train_set, batch_size=batch_size, shuffle=True)\n",
        "test_loader = torch.utils.data.DataLoader(test_set, batch_size=batch_size, shuffle=True)"
      ],
      "metadata": {
        "id": "7FdUrPTebwj5"
      },
      "execution_count": 10,
      "outputs": []
    },
    {
      "cell_type": "markdown",
      "source": [
        "It's time to define the learning loop for our 2-layer MLP! "
      ],
      "metadata": {
        "id": "qiQCtjCeohLs"
      }
    },
    {
      "cell_type": "code",
      "source": [
        "def run_mnist_training_loop(num_epochs, opt_state):\n",
        "  \"\"\"A Learning loop over epochs \"\"\"\n",
        "  # placeholder for loggin\n",
        "  log_acc_train, log_acc_test, train_loss = [], [], []\n",
        "\n",
        "  # Get initial set of parameters\n",
        "  params = get_params(opt_state)\n",
        "\n",
        "  # Get initial accuracy\n",
        "  train_acc = accuracy(params, train_loader)\n",
        "  test_acc = accuracy(params, test_loader)\n",
        "  log_acc_train.append(train_acc)\n",
        "  log_acc_test.append(test_acc)\n",
        "  # Loop over the training epochs\n",
        "  for epoch in range(num_epochs):\n",
        "    start_time = time.time()\n",
        "    for batch_idx, (data, target) in enumerate(train_loader):\n",
        "      x = jnp.array(data).reshape(data.size(0), 28*28)\n",
        "      y = one_hot_encoding(jnp.array(target), n_targets)\n",
        "      loop_params = update(params, x, y, opt_state)\n",
        "      params, opt_state, loss = update(params, x, y, opt_state)\n",
        "      # loss = update(params, x, y, opt_state)\n",
        "      train_loss.append(loss)\n",
        "    epoch_time = time.time() - start_time\n",
        "\n",
        "    train_acc = accuracy(params, train_loader)\n",
        "    test_acc = accuracy(params, test_loader)\n",
        "    log_acc_train.append(train_acc)\n",
        "    log_acc_test.append(test_acc)\n",
        "    print(\"Epoch {} | T: {:0.2f} | Train A: {:0.3f} | Test A: {:0.3f}\".format(epoch+1, epoch_time,\n",
        "                                                                              train_acc, test_acc))\n",
        "  return log_acc_train, log_acc_test, train_loss\n",
        "\n",
        "train_log, test_log, train_loss = run_mnist_training_loop(num_epochs, opt_state)\n",
        "\n",
        "# Plotting the results\n",
        "fig, axs = plt.subplots(1, 2, figsize=(10, 4))\n",
        "# axs[0].subplot(1, 2, 1)\n",
        "axs[0].plot(train_loss)\n",
        "axs[0].set_title(\"Training Loss\")\n",
        "axs[0].set_xlabel(\"# Batch Updates\")\n",
        "axs[0].set_ylabel(\"Batch Loss\")\n",
        "# plt.subplot(1, 2, 2)\n",
        "axs[1].plot(train_log, label=\"Training\")\n",
        "axs[1].plot(test_log, label=\"Test\")\n",
        "axs[1].set_title(\"Prediction Accuracy\")\n",
        "axs[1].set_xlabel(\"Accuracy\")\n",
        "axs[1].set_ylabel(\"# Epochs\")"
      ],
      "metadata": {
        "id": "oVQtrhZe5ORz",
        "colab": {
          "base_uri": "https://localhost:8080/",
          "height": 506
        },
        "outputId": "c12f36f7-fb80-4cef-a8f8-3beebecacee8"
      },
      "execution_count": 11,
      "outputs": [
        {
          "output_type": "stream",
          "name": "stdout",
          "text": [
            "Epoch 1 | T: 22.54 | Train A: 0.970 | Test A: 0.965\n",
            "Epoch 2 | T: 21.50 | Train A: 0.982 | Test A: 0.972\n",
            "Epoch 3 | T: 21.63 | Train A: 0.985 | Test A: 0.975\n",
            "Epoch 4 | T: 21.51 | Train A: 0.993 | Test A: 0.977\n",
            "Epoch 5 | T: 21.67 | Train A: 0.995 | Test A: 0.978\n",
            "Epoch 6 | T: 21.86 | Train A: 0.994 | Test A: 0.977\n",
            "Epoch 7 | T: 22.05 | Train A: 0.997 | Test A: 0.980\n",
            "Epoch 8 | T: 22.05 | Train A: 0.998 | Test A: 0.979\n",
            "Epoch 9 | T: 21.76 | Train A: 0.999 | Test A: 0.979\n",
            "Epoch 10 | T: 21.70 | Train A: 0.997 | Test A: 0.980\n"
          ]
        },
        {
          "output_type": "execute_result",
          "data": {
            "text/plain": [
              "Text(0, 0.5, '# Epochs')"
            ]
          },
          "metadata": {},
          "execution_count": 11
        },
        {
          "output_type": "display_data",
          "data": {
            "text/plain": [
              "<Figure size 720x288 with 2 Axes>"
            ],
            "image/png": "[encoded data removed]"
          },
          "metadata": {
            "needs_background": "light"
          }
        }
      ]
    },
    {
      "cell_type": "markdown",
      "source": [
        "### References\n",
        "1. [Official github repository for JAX](https://github.com/google/jax)\n",
        "2. [Trainig a Simple Neural Network with PyTorch Data Loading](https://jax.readthedocs.io/en/latest/notebooks/Neural_Network_and_Data_Loading.html)\n",
        "3. [Getting started with JAX](https://roberttlange.github.io/posts/2020/03/blog-post-10/)\n"
      ],
      "metadata": {
        "id": "TAWgCf-WpOZW"
      }
    },
    {
      "cell_type": "code",
      "source": [
        ""
      ],
      "metadata": {
        "id": "xPJhuSVAlR41"
      },
      "execution_count": null,
      "outputs": []
    }
  ]
}