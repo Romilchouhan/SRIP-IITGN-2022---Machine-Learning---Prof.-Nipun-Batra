{
  "nbformat": 4,
  "nbformat_minor": 0,
  "metadata": {
    "colab": {
      "name": "Smapling from MVN.ipynb",
      "provenance": [],
      "collapsed_sections": []
    },
    "kernelspec": {
      "name": "python3",
      "display_name": "Python 3"
    },
    "language_info": {
      "name": "python"
    }
  },
  "cells": [
    {
      "cell_type": "markdown",
      "source": [
        "# MVN Sampler from Scratch"
      ],
      "metadata": {
        "id": "8vr4wf5wuBEa"
      }
    },
    {
      "cell_type": "code",
      "execution_count": 1,
      "metadata": {
        "colab": {
          "base_uri": "https://localhost:8080/",
          "height": 305
        },
        "id": "qYkXV8PI47oe",
        "outputId": "9986c45a-554d-4454-9d25-d49c9d5d63ba"
      },
      "outputs": [
        {
          "output_type": "stream",
          "name": "stderr",
          "text": [
            "WARNING:absl:No GPU/TPU found, falling back to CPU. (Set TF_CPP_MIN_LOG_LEVEL=0 and rerun for more info.)\n"
          ]
        },
        {
          "output_type": "display_data",
          "data": {
            "text/plain": [
              "<Figure size 432x288 with 1 Axes>"
            ],
            "image/png": "[encoded data removed]"
          },
          "metadata": {
            "needs_background": "light"
          }
        }
      ],
      "source": [
        "import numpy as np\n",
        "from scipy.spatial.distance import cdist\n",
        "from jax import random\n",
        "import jax.numpy as jnp\n",
        "import matplotlib.pyplot as plt\n",
        "\n",
        "key = random.PRNGKey(1)\n",
        "def multivariate_normal_sampler(key, mean, cov, shape, dtype):\n",
        "  \"\"\"Sample multivariate normal random values with given mean and covariance\"\"\"\n",
        "  factor = jnp.linalg.cholesky(cov)\n",
        "  normal_samples = random.uniform(key, shape + mean.shape[-1:], dtype)\n",
        "  return mean + jnp.einsum('...ij,...j->...i', factor, normal_samples)\n",
        "\n",
        "# for number of dimension = 10\n",
        "X = random.normal(key, (10, 1))\n",
        "K = jnp.exp(-cdist(X, X, \"sqeuclidean\")) + 1e-6 + jnp.eye(X.shape[0])\n",
        "mean = jnp.zeros((X.shape[0], ))\n",
        "samples = multivariate_normal_sampler(key, mean, K, (100,), jnp.float32)\n",
        "plt.hist(samples)\n",
        "plt.show()"
      ]
    },
    {
      "cell_type": "markdown",
      "source": [
        "## Comparison with the built-in function"
      ],
      "metadata": {
        "id": "S38bBy79t9Zy"
      }
    },
    {
      "cell_type": "code",
      "source": [
        "built_in_samples = random.multivariate_normal(key, mean, K, (1000,))\n",
        "plt.hist(built_in_samples)\n",
        "plt.show()"
      ],
      "metadata": {
        "colab": {
          "base_uri": "https://localhost:8080/",
          "height": 265
        },
        "id": "ouVM-WQQ6n-V",
        "outputId": "e68bf8b2-ac79-4fa9-bfae-5dff53778cdc"
      },
      "execution_count": 2,
      "outputs": [
        {
          "output_type": "display_data",
          "data": {
            "text/plain": [
              "<Figure size 432x288 with 1 Axes>"
            ],
            "image/png": "[encoded data removed]"
          },
          "metadata": {
            "needs_background": "light"
          }
        }
      ]
    },
    {
      "cell_type": "markdown",
      "source": [
        "### References\n",
        "1. https://jax.readthedocs.io/en/latest/_autosummary/jax.random.multivariate_normal.html\n",
        "2. [Multivariate Normal Sampling with Numpy and Scipy](https://www.youtube.com/watch?v=ppd4c96hHH8)"
      ],
      "metadata": {
        "id": "TJxcaPK1uMl8"
      }
    },
    {
      "cell_type": "code",
      "source": [
        ""
      ],
      "metadata": {
        "id": "P0YjfYMTSAMc"
      },
      "execution_count": null,
      "outputs": []
    }
  ]
}